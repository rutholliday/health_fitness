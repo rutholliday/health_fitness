{
 "cells": [
  {
   "cell_type": "code",
   "execution_count": 19,
   "metadata": {},
   "outputs": [],
   "source": [
    "#importing dependencies\n",
    "import pandas as pd\n",
    "from sqlalchemy import create_engine\n",
    "import datetime\n",
    "import numpy as np"
   ]
  },
  {
   "cell_type": "code",
   "execution_count": 20,
   "metadata": {},
   "outputs": [
    {
     "name": "stderr",
     "output_type": "stream",
     "text": [
      "C:\\Anaconda\\lib\\site-packages\\IPython\\core\\interactiveshell.py:2785: DtypeWarning: Columns (9,18) have mixed types. Specify dtype option on import or set low_memory=False.\n",
      "  interactivity=interactivity, compiler=compiler, result=result)\n"
     ]
    },
    {
     "data": {
      "text/html": [
       "<div>\n",
       "<style scoped>\n",
       "    .dataframe tbody tr th:only-of-type {\n",
       "        vertical-align: middle;\n",
       "    }\n",
       "\n",
       "    .dataframe tbody tr th {\n",
       "        vertical-align: top;\n",
       "    }\n",
       "\n",
       "    .dataframe thead th {\n",
       "        text-align: right;\n",
       "    }\n",
       "</style>\n",
       "<table border=\"1\" class=\"dataframe\">\n",
       "  <thead>\n",
       "    <tr style=\"text-align: right;\">\n",
       "      <th></th>\n",
       "      <th>YearStart</th>\n",
       "      <th>YearEnd</th>\n",
       "      <th>LocationAbbr</th>\n",
       "      <th>LocationDesc</th>\n",
       "      <th>DataSource</th>\n",
       "      <th>Topic</th>\n",
       "      <th>Question</th>\n",
       "      <th>DataValueUnit</th>\n",
       "      <th>DataValueType</th>\n",
       "      <th>DataValue</th>\n",
       "      <th>...</th>\n",
       "      <th>Stratification1</th>\n",
       "      <th>Geo_Lat</th>\n",
       "      <th>Geo_Lon</th>\n",
       "      <th>ResponseID</th>\n",
       "      <th>LocationID</th>\n",
       "      <th>TopicID</th>\n",
       "      <th>QuestionID</th>\n",
       "      <th>DataValueTypeID</th>\n",
       "      <th>StratificationCategoryID1</th>\n",
       "      <th>StratificationID1</th>\n",
       "    </tr>\n",
       "  </thead>\n",
       "  <tbody>\n",
       "    <tr>\n",
       "      <th>0</th>\n",
       "      <td>2016</td>\n",
       "      <td>2016</td>\n",
       "      <td>US</td>\n",
       "      <td>United States</td>\n",
       "      <td>BRFSS</td>\n",
       "      <td>Alcohol</td>\n",
       "      <td>Binge drinking prevalence among adults aged &gt;=...</td>\n",
       "      <td>%</td>\n",
       "      <td>Crude Prevalence</td>\n",
       "      <td>16.9</td>\n",
       "      <td>...</td>\n",
       "      <td>Overall</td>\n",
       "      <td>NaN</td>\n",
       "      <td>NaN</td>\n",
       "      <td>NaN</td>\n",
       "      <td>59</td>\n",
       "      <td>ALC</td>\n",
       "      <td>ALC2_2</td>\n",
       "      <td>CRDPREV</td>\n",
       "      <td>OVERALL</td>\n",
       "      <td>OVR</td>\n",
       "    </tr>\n",
       "    <tr>\n",
       "      <th>1</th>\n",
       "      <td>2016</td>\n",
       "      <td>2016</td>\n",
       "      <td>AL</td>\n",
       "      <td>Alabama</td>\n",
       "      <td>BRFSS</td>\n",
       "      <td>Alcohol</td>\n",
       "      <td>Binge drinking prevalence among adults aged &gt;=...</td>\n",
       "      <td>%</td>\n",
       "      <td>Crude Prevalence</td>\n",
       "      <td>13</td>\n",
       "      <td>...</td>\n",
       "      <td>Overall</td>\n",
       "      <td>32.840571</td>\n",
       "      <td>-86.631861</td>\n",
       "      <td>NaN</td>\n",
       "      <td>1</td>\n",
       "      <td>ALC</td>\n",
       "      <td>ALC2_2</td>\n",
       "      <td>CRDPREV</td>\n",
       "      <td>OVERALL</td>\n",
       "      <td>OVR</td>\n",
       "    </tr>\n",
       "    <tr>\n",
       "      <th>2</th>\n",
       "      <td>2016</td>\n",
       "      <td>2016</td>\n",
       "      <td>AK</td>\n",
       "      <td>Alaska</td>\n",
       "      <td>BRFSS</td>\n",
       "      <td>Alcohol</td>\n",
       "      <td>Binge drinking prevalence among adults aged &gt;=...</td>\n",
       "      <td>%</td>\n",
       "      <td>Crude Prevalence</td>\n",
       "      <td>18.2</td>\n",
       "      <td>...</td>\n",
       "      <td>Overall</td>\n",
       "      <td>64.845080</td>\n",
       "      <td>-147.722059</td>\n",
       "      <td>NaN</td>\n",
       "      <td>2</td>\n",
       "      <td>ALC</td>\n",
       "      <td>ALC2_2</td>\n",
       "      <td>CRDPREV</td>\n",
       "      <td>OVERALL</td>\n",
       "      <td>OVR</td>\n",
       "    </tr>\n",
       "    <tr>\n",
       "      <th>3</th>\n",
       "      <td>2016</td>\n",
       "      <td>2016</td>\n",
       "      <td>AZ</td>\n",
       "      <td>Arizona</td>\n",
       "      <td>BRFSS</td>\n",
       "      <td>Alcohol</td>\n",
       "      <td>Binge drinking prevalence among adults aged &gt;=...</td>\n",
       "      <td>%</td>\n",
       "      <td>Crude Prevalence</td>\n",
       "      <td>15.6</td>\n",
       "      <td>...</td>\n",
       "      <td>Overall</td>\n",
       "      <td>34.865970</td>\n",
       "      <td>-111.763811</td>\n",
       "      <td>NaN</td>\n",
       "      <td>4</td>\n",
       "      <td>ALC</td>\n",
       "      <td>ALC2_2</td>\n",
       "      <td>CRDPREV</td>\n",
       "      <td>OVERALL</td>\n",
       "      <td>OVR</td>\n",
       "    </tr>\n",
       "    <tr>\n",
       "      <th>4</th>\n",
       "      <td>2016</td>\n",
       "      <td>2016</td>\n",
       "      <td>AR</td>\n",
       "      <td>Arkansas</td>\n",
       "      <td>BRFSS</td>\n",
       "      <td>Alcohol</td>\n",
       "      <td>Binge drinking prevalence among adults aged &gt;=...</td>\n",
       "      <td>%</td>\n",
       "      <td>Crude Prevalence</td>\n",
       "      <td>15</td>\n",
       "      <td>...</td>\n",
       "      <td>Overall</td>\n",
       "      <td>34.748650</td>\n",
       "      <td>-92.274491</td>\n",
       "      <td>NaN</td>\n",
       "      <td>5</td>\n",
       "      <td>ALC</td>\n",
       "      <td>ALC2_2</td>\n",
       "      <td>CRDPREV</td>\n",
       "      <td>OVERALL</td>\n",
       "      <td>OVR</td>\n",
       "    </tr>\n",
       "  </tbody>\n",
       "</table>\n",
       "<p>5 rows × 25 columns</p>\n",
       "</div>"
      ],
      "text/plain": [
       "   YearStart  YearEnd LocationAbbr   LocationDesc DataSource    Topic  \\\n",
       "0       2016     2016           US  United States      BRFSS  Alcohol   \n",
       "1       2016     2016           AL        Alabama      BRFSS  Alcohol   \n",
       "2       2016     2016           AK         Alaska      BRFSS  Alcohol   \n",
       "3       2016     2016           AZ        Arizona      BRFSS  Alcohol   \n",
       "4       2016     2016           AR       Arkansas      BRFSS  Alcohol   \n",
       "\n",
       "                                            Question DataValueUnit  \\\n",
       "0  Binge drinking prevalence among adults aged >=...             %   \n",
       "1  Binge drinking prevalence among adults aged >=...             %   \n",
       "2  Binge drinking prevalence among adults aged >=...             %   \n",
       "3  Binge drinking prevalence among adults aged >=...             %   \n",
       "4  Binge drinking prevalence among adults aged >=...             %   \n",
       "\n",
       "      DataValueType DataValue        ...          Stratification1    Geo_Lat  \\\n",
       "0  Crude Prevalence      16.9        ...                  Overall        NaN   \n",
       "1  Crude Prevalence        13        ...                  Overall  32.840571   \n",
       "2  Crude Prevalence      18.2        ...                  Overall  64.845080   \n",
       "3  Crude Prevalence      15.6        ...                  Overall  34.865970   \n",
       "4  Crude Prevalence        15        ...                  Overall  34.748650   \n",
       "\n",
       "      Geo_Lon  ResponseID LocationID TopicID  QuestionID  DataValueTypeID  \\\n",
       "0         NaN         NaN         59     ALC      ALC2_2          CRDPREV   \n",
       "1  -86.631861         NaN          1     ALC      ALC2_2          CRDPREV   \n",
       "2 -147.722059         NaN          2     ALC      ALC2_2          CRDPREV   \n",
       "3 -111.763811         NaN          4     ALC      ALC2_2          CRDPREV   \n",
       "4  -92.274491         NaN          5     ALC      ALC2_2          CRDPREV   \n",
       "\n",
       "  StratificationCategoryID1  StratificationID1  \n",
       "0                   OVERALL                OVR  \n",
       "1                   OVERALL                OVR  \n",
       "2                   OVERALL                OVR  \n",
       "3                   OVERALL                OVR  \n",
       "4                   OVERALL                OVR  \n",
       "\n",
       "[5 rows x 25 columns]"
      ]
     },
     "execution_count": 20,
     "metadata": {},
     "output_type": "execute_result"
    }
   ],
   "source": [
    "#defining the CSV Variable\n",
    "US_Chronic_Disease_Indicators_csv = '../Resources/CSV_files/U.S._Chronic_Disease_Indicators__CDI.csv'\n",
    "\n",
    "#Reading the csv in as AND NEED TO TAKE OFF THE NROWS (nrows=5)\n",
    "US_Chronic_Disease_Indicators_df = pd.read_csv(US_Chronic_Disease_Indicators_csv)\n",
    "US_Chronic_Disease_Indicators_df.head()"
   ]
  },
  {
   "cell_type": "code",
   "execution_count": 21,
   "metadata": {},
   "outputs": [
    {
     "data": {
      "text/plain": [
       "(480316, 25)"
      ]
     },
     "execution_count": 21,
     "metadata": {},
     "output_type": "execute_result"
    }
   ],
   "source": [
    "US_Chronic_Disease_Indicators_df.shape"
   ]
  },
  {
   "cell_type": "code",
   "execution_count": 22,
   "metadata": {},
   "outputs": [
    {
     "data": {
      "text/plain": [
       "Index(['YearStart', 'YearEnd', 'LocationAbbr', 'LocationDesc', 'DataSource',\n",
       "       'Topic', 'Question', 'DataValueUnit', 'DataValueType', 'DataValue',\n",
       "       'DataValueAlt', 'DatavalueFootnote', 'LowConfidenceLimit',\n",
       "       'HighConfidenceLimit', 'StratificationCategory1', 'Stratification1',\n",
       "       'Geo_Lat', 'Geo_Lon', 'ResponseID', 'LocationID', 'TopicID',\n",
       "       'QuestionID', 'DataValueTypeID', 'StratificationCategoryID1',\n",
       "       'StratificationID1'],\n",
       "      dtype='object')"
      ]
     },
     "execution_count": 22,
     "metadata": {},
     "output_type": "execute_result"
    }
   ],
   "source": [
    "US_Chronic_Disease_Indicators_df.columns"
   ]
  },
  {
   "cell_type": "code",
   "execution_count": 23,
   "metadata": {},
   "outputs": [],
   "source": [
    "#importing dependencies for mysql connection\n",
    "import pymysql\n",
    "pymysql.install_as_MySQLdb()\n",
    "\n",
    "#just have to change this to your password for local access to your sqlsql database\n",
    "sql_password = 'CassiusClay2!'\n",
    "db_name = 'Health_Trend_Project_db'\n",
    "\n",
    "#connecting to my sql database\n",
    "rds_connection_string = \"root:\"+sql_password+\"@127.0.0.1/\"+db_name\n",
    "engine = create_engine(f'mysql://{rds_connection_string}')"
   ]
  },
  {
   "cell_type": "code",
   "execution_count": 24,
   "metadata": {},
   "outputs": [
    {
     "data": {
      "text/plain": [
       "['national_health_expenditures_data', 'us_chronic_disease_indicators_data']"
      ]
     },
     "execution_count": 24,
     "metadata": {},
     "output_type": "execute_result"
    }
   ],
   "source": [
    "engine.table_names()"
   ]
  },
  {
   "cell_type": "code",
   "execution_count": null,
   "metadata": {},
   "outputs": [],
   "source": [
    "#Loading data to kickstarter mysql table\n",
    "US_Chronic_Disease_Indicators_df.to_sql(name='us_chronic_disease_indicators_data', con=engine, if_exists='replace', index=False)"
   ]
  },
  {
   "cell_type": "code",
   "execution_count": null,
   "metadata": {},
   "outputs": [],
   "source": []
  }
 ],
 "metadata": {
  "kernelspec": {
   "display_name": "Python [conda env:Anaconda]",
   "language": "python",
   "name": "conda-env-Anaconda-py"
  },
  "language_info": {
   "codemirror_mode": {
    "name": "ipython",
    "version": 3
   },
   "file_extension": ".py",
   "mimetype": "text/x-python",
   "name": "python",
   "nbconvert_exporter": "python",
   "pygments_lexer": "ipython3",
   "version": "3.6.5"
  }
 },
 "nbformat": 4,
 "nbformat_minor": 2
}
