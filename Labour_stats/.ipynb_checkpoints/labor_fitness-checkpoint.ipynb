{
 "cells": [
  {
   "cell_type": "code",
   "execution_count": null,
   "metadata": {},
   "outputs": [],
   "source": [
    "%matplotlib inline\n",
    "# Dependencies and Setup\n",
    "import matplotlib.pyplot as plt\n",
    "import pandas as pd\n",
    "import numpy as np\n",
    "from matplotlib import colors as mcolors \n",
    "\n",
    "# Read the labor_fitness csv \n",
    "labor_fitness = pd.read_csv(\"occupation_fitness.csv\")\n",
    "\n",
    "# Display the data table for preview\n",
    "labor_fitness.head()"
   ]
  },
  {
   "cell_type": "code",
   "execution_count": null,
   "metadata": {},
   "outputs": [],
   "source": [
    "plt.title(\"Labor changes in the fitness Industry\")\n",
    "# athletes_sports = labor_fitness[labor_fitness.type == 'Athletes and sports competitors']\n",
    "# athletic_trainers = labor_fitness[labor_fitness.type == 'athletic Trainers']\n",
    "# fitness_teachers = labor_fitness[labor_fitness.type == 'recreation and fitness studies teachers, postsecondary']\n",
    "# fitness_aerobic = labor_fitness[labor_fitness.type == 'fitness trainers and aerobic instructors']\n",
    "# health_educators = labor_fitness[labor_fitness.type == 'health educators']\n",
    "\n",
    "# urban = combined_csv[combined_csv.type == 'Urban']\n",
    "danger_drop = plt.plot(labor_fitness[\"1999\"], labor_fitness[\"Occupation_Title\"], color=\"red\", label=\"Danger Drop\")\n",
    "railgun = plt.plot(labor_fitness[\"1999\"], labor_fitness[\"Occupation_Title\"], color=\"blue\", label=\"RailGun\")"
   ]
  },
  {
   "cell_type": "code",
   "execution_count": null,
   "metadata": {},
   "outputs": [],
   "source": []
  }
 ],
 "metadata": {
  "kernelspec": {
   "display_name": "Python 3",
   "language": "python",
   "name": "python3"
  },
  "language_info": {
   "codemirror_mode": {
    "name": "ipython",
    "version": 3
   },
   "file_extension": ".py",
   "mimetype": "text/x-python",
   "name": "python",
   "nbconvert_exporter": "python",
   "pygments_lexer": "ipython3",
   "version": "3.6.5"
  }
 },
 "nbformat": 4,
 "nbformat_minor": 2
}
